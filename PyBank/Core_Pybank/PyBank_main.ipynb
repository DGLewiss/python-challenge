{
 "cells": [
  {
   "cell_type": "code",
   "execution_count": 1,
   "metadata": {
    "tags": []
   },
   "outputs": [
    {
     "name": "stdout",
     "output_type": "stream",
     "text": [
      "Financial Analysis\n",
      "-------------------------------------\n",
      "Total Months: 86\n",
      "Total: $38382578\n",
      "Average Change: $-2315.12\n",
      "Greatest Increase in Profits: Feb-2012 ($1926159)\n",
      "Greatest Decrease in Losses: Sep-2013 ($-2196167)\n"
     ]
    }
   ],
   "source": [
    "\"\"\"\n",
    "---\n",
    "1. Load pathlib to import Path\n",
    "2. import CSV file \"budget_data.csv\"\n",
    "3. Create a file path from the local directory\n",
    "4. Create empty lists to store 'months', 'profits' and 'changes'\n",
    "5. read the CSV and populate the lists, use 'next(reader)' to skip the headings in data\n",
    "6. calculate total months \n",
    "7. calculate net P/L for assessed period\n",
    "8. calculate change in P/L for assessed period with a 'for' loop and 'append' month P/L to 'changes' list\n",
    "9. calculate 'average_change' by sum of change divided by count of changes\n",
    "10. find greatest increase in 'changes' list\n",
    "11. find greatest decrease in 'changes' list\n",
    "12. print results with defined prefix with f string \n",
    "end program\n",
    "---\n",
    "\"\"\"\n",
    "\n",
    "from pathlib import Path\n",
    "import csv\n",
    "\n",
    "# Set the file path\n",
    "csvpath = Path('/Users/david/Desktop/Python_2/Python_homework/python-challenge/PyBank/Resources_Pybank/budget_data.csv')\n",
    "# Create empty lists to store data\n",
    "months = []\n",
    "profits = []\n",
    "changes = []\n",
    "\n",
    "# Read the CSV file and populate the lists\n",
    "with open(csvpath, 'r') as file:\n",
    "    reader = csv.reader(file)\n",
    "    next(reader) # Skip the header row\n",
    "    for row in reader:\n",
    "        months.append(row[0]) # Append months to the months list\n",
    "        profits.append(int(row[1])) # Append profits/losses to the profits list\n",
    "\n",
    "# Calculate the total number of months\n",
    "total_months = len(months)\n",
    "\n",
    "# Calculate the net total amount of Profit/Losses over the entire period\n",
    "net_total = sum(profits)\n",
    "\n",
    "# Calculate the changes in Profit/Losses over the entire period\n",
    "for monthly_pnl in range(1, total_months):\n",
    "    change = profits[monthly_pnl] - profits[monthly_pnl-1]\n",
    "    changes.append(change)\n",
    "\n",
    "\n",
    "# Calculate the average change in Profit/Losses\n",
    "average_change = sum(changes) / len(changes)\n",
    "\n",
    "# Find the greatest increase in profits (date and amount)\n",
    "greatest_increase = max(changes)\n",
    "greatest_increase_date = months[changes.index(greatest_increase) + 1]\n",
    "\n",
    "# Find the greatest decrease in losses (date and amount)\n",
    "greatest_decrease = min(changes)\n",
    "greatest_decrease_date = months[changes.index(greatest_decrease) + 1]\n",
    "\n",
    "# Print the results\n",
    "print(\"Financial Analysis\")\n",
    "print(\"-------------------------------------\")\n",
    "print(f\"Total Months: {total_months}\")\n",
    "print(f\"Total: ${net_total}\")\n",
    "print(f\"Average Change: ${average_change:.2f}\")\n",
    "print(f\"Greatest Increase in Profits: {greatest_increase_date} (${greatest_increase})\")\n",
    "print(f\"Greatest Decrease in Losses: {greatest_decrease_date} (${greatest_decrease})\")\n"
   ]
  },
  {
   "cell_type": "code",
   "execution_count": null,
   "metadata": {},
   "outputs": [],
   "source": []
  }
 ],
 "metadata": {
  "kernelspec": {
   "display_name": "Python 3 (ipykernel)",
   "language": "python",
   "name": "python3"
  },
  "language_info": {
   "codemirror_mode": {
    "name": "ipython",
    "version": 3
   },
   "file_extension": ".py",
   "mimetype": "text/x-python",
   "name": "python",
   "nbconvert_exporter": "python",
   "pygments_lexer": "ipython3",
   "version": "3.10.11"
  }
 },
 "nbformat": 4,
 "nbformat_minor": 4
}
